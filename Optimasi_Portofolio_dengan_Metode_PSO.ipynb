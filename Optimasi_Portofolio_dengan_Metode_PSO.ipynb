{
  "nbformat": 4,
  "nbformat_minor": 0,
  "metadata": {
    "colab": {
      "provenance": [],
      "toc_visible": true
    },
    "kernelspec": {
      "name": "python3",
      "display_name": "Python 3"
    },
    "language_info": {
      "name": "python"
    }
  },
  "cells": [
    {
      "cell_type": "markdown",
      "source": [
        "# **Optimasi Portofolio dengan Metode PSO**"
      ],
      "metadata": {
        "id": "-yyMnrLkXwWE"
      }
    },
    {
      "cell_type": "markdown",
      "source": [
        "Kelompok 10:\n",
        "1.   Josevine Gabriela Wijanarko\t(22/493339/PA/21180)\n",
        "2.   Meila Dwi Nurini\t(22/497250/PA/21408)\n",
        "3. Daffa Elgo Santosa\t(22/503591/PA/21647)"
      ],
      "metadata": {
        "id": "Lqvcf3sSXziQ"
      }
    },
    {
      "cell_type": "markdown",
      "source": [],
      "metadata": {
        "id": "vzaE43W4X3Cs"
      }
    },
    {
      "cell_type": "markdown",
      "source": [
        "# Metodologi"
      ],
      "metadata": {
        "id": "EYGjSaS9SpM5"
      }
    },
    {
      "cell_type": "markdown",
      "source": [
        "## Portofolio"
      ],
      "metadata": {
        "id": "jR3kiu4zS7f_"
      }
    },
    {
      "cell_type": "markdown",
      "source": [
        "Portofolio merupakan kumpulan aset yang banyak dipilih investor untuk mendapatkan keuntungan. Teori portofolio berkaitan dengan estimasi investor terhadap risiko dan return yang diukur secara statistik untuk membuat portofolio investasinya. Teori portofolio dimulai dengan asumsi bahwa tingkat pengembalian atas sekuritas dimasa depan dapat diestimasi dan kemudian dapat menentukan risiko dengan variasi distribusi (Nadiva, 2016)."
      ],
      "metadata": {
        "id": "a_Ji53yhUPkh"
      }
    },
    {
      "cell_type": "markdown",
      "source": [
        "## Optimasi Portofolio"
      ],
      "metadata": {
        "id": "HQDFn_A5TAmU"
      }
    },
    {
      "cell_type": "markdown",
      "source": [
        "Menurut Jogiyanto (2009), portofolio optimal adalah portofolio dengan kombinasi return ekspetasian dan risiko terbaik. Portofolio yang optimal dipilih dari berbagai portofolio-portofolio effisien yang berada di *efficient frontier*. Portofolio yang dipilih investor merupakan portofolio yang sesuai dengan preferensi investor terhadap return atau risiko yang bersedia ditanggung. Menurut Sharpe, William (1997) Efficient frontier dapat ditentukan dengan menerapkan teorema efisiensi set *efficient set theorem* yang menyatakan bahwa investor akan memilih portofolio optimal dari sejumlah portofolio yang menawarkan return ekspetarian maksimum untuk berbagai tingkat risiko dan menawarkan risiko yang minimum untuk berbagai tingkat return ekspetarian."
      ],
      "metadata": {
        "id": "yUmj3kgRVNrS"
      }
    },
    {
      "cell_type": "markdown",
      "source": [
        "## Particle Swarm Optimization (PSO)"
      ],
      "metadata": {
        "id": "uil73OIoTEAb"
      }
    },
    {
      "cell_type": "markdown",
      "source": [
        "Metode Particle Swarm Optimization (PSO) pertama kali dikenalkan oleh Dr. Eberhart dan Dr. Kennedy tahun 1995 pada konferensi jaringan syaraf di Australia. Metode ini berupa optimasi stokastik terhadap suatu populasi. PSO dalam sains komputasi merupaka metode yang mengoptimasi masalah dengan mencoba meningkatkan calon solusi dari masalah secara berulang-ulang dengan memperhatikan ukuran kualitas yang diberikan.\n",
        "\n",
        "PSO terinspirasi dari perilaku alamiah kawanan hewan, seperti burung yang mencari makanan atau serangga yang bekerja bersama untuk mencapai tujuan. Misalnya, sekelompok burung yang mencari makanan di suatu daerah yang tidak diketahui secara pasti, tetapi mereka bisa menilai jarak dari makanan tersebut. Salah satu strategi efektif adalah dengan mengikuti burung yang paling dekat dengan makanan.\n",
        "\n",
        "PSO memecahkan masalah optimasi dengan cara menginisialisasi sekelompok partikel, yang masing-masing merupakan calon solusi untuk masalah tersebut. Partikel-partikel ini bergerak melalui ruang pencarian berdasarkan posisi dan kecepatannya, serta selalu mengacu pada solusi terbaik yang sudah ditemukan baik oleh partikel itu sendiri maupun oleh seluruh populasi (Rini Widia, 2018).\n"
      ],
      "metadata": {
        "id": "7uhxsyr2WWir"
      }
    },
    {
      "cell_type": "markdown",
      "source": [
        "## Algoritma PSO"
      ],
      "metadata": {
        "id": "kPFOXCvMTuVH"
      }
    },
    {
      "cell_type": "markdown",
      "source": [
        "Algoritma *Particle Swarm  Optimization* sebagai berikut (Rini Widia, 2018):\n",
        "\n",
        "\n",
        "1.   Inisialisasi sekumpulan partikel (𝒙ₖⁱ) secara random (setiap partikel merepresentasikan solusi yang mungkin untuk masalah optimasi).\n",
        "2.   Inisialiasi kecepatan dari setiap partikel (𝒱ₖⁱ) dengan asumsi bahwa kecepatan awal partikel = 0.\n",
        "3. Evaluasi fungsi tujuan (𝑓ₖⁱ).\n",
        "4. Menentukan posisi terbaik masing-masing partikel untuk setiap iterasi (𝒑ₖⁱ) dengan ketentuan jika 𝑓ₖⁱ <= 𝑓ⁱ_best maka 𝑓ⁱ_best = 𝑓ₖⁱ, 𝒑ₖⁱ = 𝒙ₖⁱ.\n",
        "5. Menentukan posisi terbaik untuk setiap populasi (𝒑ₖᵍ) dengan ketentuan jika 𝑓ₖⁱ <= 𝑓ᵍ_best maka 𝑓ᵍ_best = 𝑓ₖⁱ, 𝒑ₖᵍ = 𝒙ₖⁱ.\n",
        "6. Memperbarui posisi dan kecepatan partikel.\n",
        "7. Pemberhentian iterasi jika telah mencapai nilai optimum atau mencapai iterasi maksimum."
      ],
      "metadata": {
        "id": "OPM_pG1Bd1mP"
      }
    },
    {
      "cell_type": "markdown",
      "source": [
        "# Deskripsi Dataset"
      ],
      "metadata": {
        "id": "bBE-5yHISpsd"
      }
    },
    {
      "cell_type": "code",
      "source": [
        "# PACKAGES\n",
        "# -----------------------------------------------------------------------------\n",
        "import pandas   as pd\n",
        "import numpy    as np\n",
        "import datetime as dt\n",
        "import matplotlib.pyplot as plt"
      ],
      "metadata": {
        "id": "npA75qKdke7V"
      },
      "execution_count": null,
      "outputs": []
    },
    {
      "cell_type": "code",
      "source": [
        "# =============================================================================\n",
        "# INPUT PARAMETERS\n",
        "# =============================================================================\n",
        "\n",
        "# Date range for stock & t-bill data pull - default last 10 years\n",
        "maxDate = dt.datetime.now()                     # Max date to pull from\n",
        "minDate = maxDate - dt.timedelta(days=365) # Min date to pull from\n",
        "\n",
        "# List of stock tickers from the image\n",
        "StockTickers = ['ACES.JK', 'ADRO.JK', 'AKRA.JK', 'AMRT.JK', 'ANTM.JK', 'ARTO.JK', 'ASII.JK',\n",
        "                'BBCA.JK', 'BBNI.JK', 'BBRI.JK', 'BMRI.JK', 'BRPT.JK', 'BUKA.JK', 'CPIN.JK',\n",
        "                'GOTO.JK', 'ICBP.JK', 'INCO.JK', 'INDF.JK', 'INKP.JK', 'ITMG.JK', 'KLBF.JK',\n",
        "                'MDKA.JK', 'MEDC.JK', 'PGAS.JK', 'PGEO.JK', 'PTBA.JK', 'SMGR.JK', 'TLKM.JK',\n",
        "                'UNTR.JK', 'UNVR.JK']\n",
        "\n",
        "\n",
        "# Rest of the parameters remain the same\n",
        "totalIterations  = 3000      # Main Stopping criteria = the total number of iterations\n",
        "evalGoal         = 'risk'    # Minimize 'risk' or maximize 'sharpe'\n",
        "minDesiredReturn = 0.075     # meet the minimum desired return. E.g. 7.5%\n",
        "numPorfolios     = 30        # number of portfolios in swarm to simulate\n",
        "method           = 'local'   # 'local' or 'global' best function name\n"
      ],
      "metadata": {
        "id": "3ZHoMrankNf3"
      },
      "execution_count": null,
      "outputs": []
    },
    {
      "cell_type": "markdown",
      "source": [
        "# Hasil dan Pembahasan"
      ],
      "metadata": {
        "id": "9_r3ofdVpL7t"
      }
    },
    {
      "cell_type": "code",
      "source": [
        "# Helper Inputs\n",
        "# -----------------------------------------------------------------------------\n",
        "\n",
        "MONTHS_IN_YEAR = 12 # The number of months in a year\n",
        "\n",
        "# bounds for evaluation Function search space\n",
        "lowerBound        = 0   # no weight in a stock\n",
        "upperBound        = 1   # Max weight in stock"
      ],
      "metadata": {
        "id": "erGVwC6TkTXP"
      },
      "execution_count": null,
      "outputs": []
    },
    {
      "cell_type": "code",
      "source": [
        "# =============================================================================\n",
        "# Import stocks (monthly)\n",
        "# =============================================================================\n",
        "\n",
        "from StockPull import * # to pull in stock data\n",
        "\n",
        "\n",
        "# Pull in data based on input parameters (Stock tickers, date range)\n",
        "RawStockData = pullStockData(StockTickers, minDate, maxDate)\n",
        "\n",
        "# Pivot so that each stock is its own column\n",
        "RawStockDataPivot = RawStockData.copy().pivot(index='period', columns='stock',  values='adjClose')\n",
        "RawStockDataPivot.to_csv('RawStockDataPivot.csv')\n",
        "\n",
        "\n",
        "# =============================================================================\n",
        "# Import T-Bill (monthly)\n",
        "# T-Bill Ref: https://finance.yahoo.com/quote/%5EIRX/history/\n",
        "# =============================================================================\n",
        "\n",
        "# Get the average risk free rate\n",
        "T_Bill = pullStockData(['^JK3M'], minDate, maxDate)\n",
        "\n",
        "# Get the annualized average t-bill rate over date range\n",
        "# Need over date range to get risk adjusted returns (Sharpe Ratio)\n",
        "riskFreeRate = T_Bill['adjClose'].mean() / 100 # 100%"
      ],
      "metadata": {
        "colab": {
          "base_uri": "https://localhost:8080/"
        },
        "id": "cnzRk0Bzkkll",
        "outputId": "2abebb90-00a0-4af0-b6ee-c2f938788dd5"
      },
      "execution_count": null,
      "outputs": [
        {
          "output_type": "stream",
          "name": "stderr",
          "text": [
            "\r[*********************100%***********************]  1 of 1 completed"
          ]
        },
        {
          "output_type": "stream",
          "name": "stdout",
          "text": [
            "\n",
            "Downloading ACES.JK - Progress: 1 / 30\n",
            "\n",
            "Downloading ADRO.JK - Progress: 2 / 30\n"
          ]
        },
        {
          "output_type": "stream",
          "name": "stderr",
          "text": [
            "\n",
            "/content/StockPull.py:51: FutureWarning: The behavior of DataFrame concatenation with empty or all-NA entries is deprecated. In a future version, this will no longer exclude empty or all-NA columns when determining the result dtypes. To retain the old behavior, exclude the relevant entries before the concat operation.\n",
            "  PulledStocks = pd.concat([PulledStocks, stockTicker])\n",
            "[*********************100%***********************]  1 of 1 completed\n",
            "[*********************100%***********************]  1 of 1 completed\n"
          ]
        },
        {
          "output_type": "stream",
          "name": "stdout",
          "text": [
            "\n",
            "Downloading AKRA.JK - Progress: 3 / 30\n",
            "\n",
            "Downloading AMRT.JK - Progress: 4 / 30\n"
          ]
        },
        {
          "output_type": "stream",
          "name": "stderr",
          "text": [
            "[*********************100%***********************]  1 of 1 completed\n",
            "[*********************100%***********************]  1 of 1 completed\n"
          ]
        },
        {
          "output_type": "stream",
          "name": "stdout",
          "text": [
            "\n",
            "Downloading ANTM.JK - Progress: 5 / 30\n",
            "\n",
            "Downloading ARTO.JK - Progress: 6 / 30\n"
          ]
        },
        {
          "output_type": "stream",
          "name": "stderr",
          "text": [
            "[*********************100%***********************]  1 of 1 completed\n",
            "[*********************100%***********************]  1 of 1 completed\n"
          ]
        },
        {
          "output_type": "stream",
          "name": "stdout",
          "text": [
            "\n",
            "Downloading ASII.JK - Progress: 7 / 30\n",
            "\n",
            "Downloading BBCA.JK - Progress: 8 / 30\n"
          ]
        },
        {
          "output_type": "stream",
          "name": "stderr",
          "text": [
            "\r[*********************100%***********************]  1 of 1 completed\n"
          ]
        },
        {
          "output_type": "stream",
          "name": "stdout",
          "text": [
            "\n",
            "Downloading BBNI.JK - Progress: 9 / 30\n"
          ]
        },
        {
          "output_type": "stream",
          "name": "stderr",
          "text": [
            "[*********************100%***********************]  1 of 1 completed\n",
            "[*********************100%***********************]  1 of 1 completed\n"
          ]
        },
        {
          "output_type": "stream",
          "name": "stdout",
          "text": [
            "\n",
            "Downloading BBRI.JK - Progress: 10 / 30\n",
            "\n",
            "Downloading BMRI.JK - Progress: 11 / 30\n"
          ]
        },
        {
          "output_type": "stream",
          "name": "stderr",
          "text": [
            "\r[*********************100%***********************]  1 of 1 completed\n"
          ]
        },
        {
          "output_type": "stream",
          "name": "stdout",
          "text": [
            "\n",
            "Downloading BRPT.JK - Progress: 12 / 30\n"
          ]
        },
        {
          "output_type": "stream",
          "name": "stderr",
          "text": [
            "[*********************100%***********************]  1 of 1 completed\n",
            "[*********************100%***********************]  1 of 1 completed\n"
          ]
        },
        {
          "output_type": "stream",
          "name": "stdout",
          "text": [
            "\n",
            "Downloading BUKA.JK - Progress: 13 / 30\n",
            "\n",
            "Downloading CPIN.JK - Progress: 14 / 30\n"
          ]
        },
        {
          "output_type": "stream",
          "name": "stderr",
          "text": [
            "[*********************100%***********************]  1 of 1 completed\n",
            "[*********************100%***********************]  1 of 1 completed\n"
          ]
        },
        {
          "output_type": "stream",
          "name": "stdout",
          "text": [
            "\n",
            "Downloading GOTO.JK - Progress: 15 / 30\n",
            "\n",
            "Downloading ICBP.JK - Progress: 16 / 30\n"
          ]
        },
        {
          "output_type": "stream",
          "name": "stderr",
          "text": [
            "[*********************100%***********************]  1 of 1 completed\n",
            "[*********************100%***********************]  1 of 1 completed\n"
          ]
        },
        {
          "output_type": "stream",
          "name": "stdout",
          "text": [
            "\n",
            "Downloading INCO.JK - Progress: 17 / 30\n",
            "\n",
            "Downloading INDF.JK - Progress: 18 / 30\n"
          ]
        },
        {
          "output_type": "stream",
          "name": "stderr",
          "text": [
            "\r[*********************100%***********************]  1 of 1 completed\n"
          ]
        },
        {
          "output_type": "stream",
          "name": "stdout",
          "text": [
            "\n",
            "Downloading INKP.JK - Progress: 19 / 30\n"
          ]
        },
        {
          "output_type": "stream",
          "name": "stderr",
          "text": [
            "[*********************100%***********************]  1 of 1 completed\n",
            "[*********************100%***********************]  1 of 1 completed\n"
          ]
        },
        {
          "output_type": "stream",
          "name": "stdout",
          "text": [
            "\n",
            "Downloading ITMG.JK - Progress: 20 / 30\n",
            "\n",
            "Downloading KLBF.JK - Progress: 21 / 30\n"
          ]
        },
        {
          "output_type": "stream",
          "name": "stderr",
          "text": [
            "[*********************100%***********************]  1 of 1 completed\n",
            "[*********************100%***********************]  1 of 1 completed\n"
          ]
        },
        {
          "output_type": "stream",
          "name": "stdout",
          "text": [
            "\n",
            "Downloading MDKA.JK - Progress: 22 / 30\n",
            "\n",
            "Downloading MEDC.JK - Progress: 23 / 30\n"
          ]
        },
        {
          "output_type": "stream",
          "name": "stderr",
          "text": [
            "[*********************100%***********************]  1 of 1 completed\n",
            "[*********************100%***********************]  1 of 1 completed\n"
          ]
        },
        {
          "output_type": "stream",
          "name": "stdout",
          "text": [
            "\n",
            "Downloading PGAS.JK - Progress: 24 / 30\n",
            "\n",
            "Downloading PGEO.JK - Progress: 25 / 30\n"
          ]
        },
        {
          "output_type": "stream",
          "name": "stderr",
          "text": [
            "[*********************100%***********************]  1 of 1 completed\n",
            "[*********************100%***********************]  1 of 1 completed\n"
          ]
        },
        {
          "output_type": "stream",
          "name": "stdout",
          "text": [
            "\n",
            "Downloading PTBA.JK - Progress: 26 / 30\n",
            "\n",
            "Downloading SMGR.JK - Progress: 27 / 30\n"
          ]
        },
        {
          "output_type": "stream",
          "name": "stderr",
          "text": [
            "[*********************100%***********************]  1 of 1 completed\n",
            "[*********************100%***********************]  1 of 1 completed\n"
          ]
        },
        {
          "output_type": "stream",
          "name": "stdout",
          "text": [
            "\n",
            "Downloading TLKM.JK - Progress: 28 / 30\n",
            "\n",
            "Downloading UNTR.JK - Progress: 29 / 30\n"
          ]
        },
        {
          "output_type": "stream",
          "name": "stderr",
          "text": [
            "[*********************100%***********************]  1 of 1 completed\n",
            "[*********************100%***********************]  1 of 1 completed\n"
          ]
        },
        {
          "output_type": "stream",
          "name": "stdout",
          "text": [
            "\n",
            "Downloading UNVR.JK - Progress: 30 / 30\n",
            "\n",
            "Downloading ^JK3M - Progress: 1 / 1\n"
          ]
        },
        {
          "output_type": "stream",
          "name": "stderr",
          "text": [
            "\r[*********************100%***********************]  1 of 1 completed\n",
            "ERROR:yfinance:\n",
            "1 Failed download:\n",
            "ERROR:yfinance:['^JK3M']: YFTzMissingError('$%ticker%: possibly delisted; no timezone found')\n"
          ]
        }
      ]
    },
    {
      "cell_type": "code",
      "source": [
        "# =============================================================================\n",
        "# INPUT PARAMETERS\n",
        "# =============================================================================\n",
        "\n",
        "# Date range for stock & t-bill data pull - default last year (365 days)\n",
        "maxDate = dt.datetime.now()                     # Max date to pull from\n",
        "minDate = maxDate - dt.timedelta(days=365)      # Min date to pull from\n",
        "\n",
        "# List of stock tickers from the image\n",
        "StockTickers = ['ACES.JK', 'ADRO.JK', 'AKRA.JK', 'AMRT.JK', 'ANTM.JK', 'ARTO.JK', 'ASII.JK',\n",
        "                'BBCA.JK', 'BBNI.JK', 'BBRI.JK', 'BMRI.JK', 'BRPT.JK', 'BUKA.JK', 'CPIN.JK',\n",
        "                'GOTO.JK', 'ICBP.JK', 'INCO.JK', 'INDF.JK', 'INKP.JK', 'ITMG.JK', 'KLBF.JK',\n",
        "                'MDKA.JK', 'MEDC.JK', 'PGAS.JK', 'PGEO.JK', 'PTBA.JK', 'SMGR.JK', 'TLKM.JK',\n",
        "                'UNTR.JK', 'UNVR.JK']\n",
        "\n",
        "# Rest of the parameters remain the same\n",
        "totalIterations  = 3000      # Main Stopping criteria = the total number of iterations\n",
        "evalGoal         = 'risk'    # Minimize 'risk' or maximize 'sharpe'\n",
        "minDesiredReturn = 0.075     # meet the minimum desired return. E.g. 7.5%\n",
        "numPorfolios     = 30        # number of portfolios in swarm to simulate\n",
        "method           = 'local'   # 'local' or 'global' best function name\n",
        "\n",
        "# Helper Inputs\n",
        "# -----------------------------------------------------------------------------\n",
        "MONTHS_IN_YEAR = 12 # The number of months in a year\n",
        "\n",
        "# bounds for evaluation Function search space\n",
        "lowerBound        = 0   # no weight in a stock\n",
        "upperBound        = 1   # Max weight in stock\n",
        "\n",
        "# =============================================================================\n",
        "# Import stocks (daily data)\n",
        "# =============================================================================\n",
        "\n",
        "from StockPull import *  # Assuming this is custom function to pull in stock data\n",
        "\n",
        "# Pull in data based on input parameters (Stock tickers, date range), with daily frequency\n",
        "RawStockData = pullStockData(StockTickers, minDate, maxDate, interval=\"1d\")\n",
        "\n",
        "# Pivot so that each stock is its own column\n",
        "RawStockDataPivot = RawStockData.copy().pivot(index='period', columns='stock', values='adjClose')\n",
        "RawStockDataPivot.to_csv('RawStockDataPivot.csv')\n",
        "\n",
        "# # =============================================================================\n",
        "# # Import T-Bill (daily data)\n",
        "# # =============================================================================\n",
        "\n",
        "# # Replace '^IRX' with the correct risk-free rate, e.g., '^JK3M' for Indonesian 3-month T-Bill if available\n",
        "# T_Bill = pullStockData(['^JK3M'], minDate, maxDate, interval=\"1d\")\n",
        "\n",
        "# # Get the annualized average T-bill rate over the date range\n",
        "# # Need this to calculate risk-adjusted returns (Sharpe Ratio)\n",
        "# riskFreeRate = T_Bill['adjClose'].mean() / 100  # 100% scale\n"
      ],
      "metadata": {
        "colab": {
          "base_uri": "https://localhost:8080/"
        },
        "id": "OOxyabdCvCFa",
        "outputId": "a7d45b50-7914-4ebb-be4d-700ce6e27080"
      },
      "execution_count": null,
      "outputs": [
        {
          "output_type": "stream",
          "name": "stderr",
          "text": [
            "\r[*********************100%***********************]  1 of 1 completed"
          ]
        },
        {
          "output_type": "stream",
          "name": "stdout",
          "text": [
            "\n",
            "Downloading ACES.JK - Progress: 1 / 30\n",
            "\n",
            "Downloading ADRO.JK - Progress: 2 / 30\n"
          ]
        },
        {
          "output_type": "stream",
          "name": "stderr",
          "text": [
            "\n",
            "/content/StockPull.py:51: FutureWarning: The behavior of DataFrame concatenation with empty or all-NA entries is deprecated. In a future version, this will no longer exclude empty or all-NA columns when determining the result dtypes. To retain the old behavior, exclude the relevant entries before the concat operation.\n",
            "  PulledStocks = pd.concat([PulledStocks, stockTicker])\n",
            "[*********************100%***********************]  1 of 1 completed\n",
            "[*********************100%***********************]  1 of 1 completed\n"
          ]
        },
        {
          "output_type": "stream",
          "name": "stdout",
          "text": [
            "\n",
            "Downloading AKRA.JK - Progress: 3 / 30\n",
            "\n",
            "Downloading AMRT.JK - Progress: 4 / 30\n"
          ]
        },
        {
          "output_type": "stream",
          "name": "stderr",
          "text": [
            "[*********************100%***********************]  1 of 1 completed\n",
            "[*********************100%***********************]  1 of 1 completed\n",
            "[*********************100%***********************]  1 of 1 completed\n"
          ]
        },
        {
          "output_type": "stream",
          "name": "stdout",
          "text": [
            "\n",
            "Downloading ANTM.JK - Progress: 5 / 30\n",
            "\n",
            "Downloading ARTO.JK - Progress: 6 / 30\n",
            "\n",
            "Downloading ASII.JK - Progress: 7 / 30\n"
          ]
        },
        {
          "output_type": "stream",
          "name": "stderr",
          "text": [
            "[*********************100%***********************]  1 of 1 completed\n",
            "[*********************100%***********************]  1 of 1 completed\n"
          ]
        },
        {
          "output_type": "stream",
          "name": "stdout",
          "text": [
            "\n",
            "Downloading BBCA.JK - Progress: 8 / 30\n",
            "\n",
            "Downloading BBNI.JK - Progress: 9 / 30\n"
          ]
        },
        {
          "output_type": "stream",
          "name": "stderr",
          "text": [
            "[*********************100%***********************]  1 of 1 completed\n",
            "[*********************100%***********************]  1 of 1 completed\n"
          ]
        },
        {
          "output_type": "stream",
          "name": "stdout",
          "text": [
            "\n",
            "Downloading BBRI.JK - Progress: 10 / 30\n",
            "\n",
            "Downloading BMRI.JK - Progress: 11 / 30\n"
          ]
        },
        {
          "output_type": "stream",
          "name": "stderr",
          "text": [
            "[*********************100%***********************]  1 of 1 completed\n",
            "[*********************100%***********************]  1 of 1 completed\n",
            "[*********************100%***********************]  1 of 1 completed\n"
          ]
        },
        {
          "output_type": "stream",
          "name": "stdout",
          "text": [
            "\n",
            "Downloading BRPT.JK - Progress: 12 / 30\n",
            "\n",
            "Downloading BUKA.JK - Progress: 13 / 30\n",
            "\n",
            "Downloading CPIN.JK - Progress: 14 / 30\n"
          ]
        },
        {
          "output_type": "stream",
          "name": "stderr",
          "text": [
            "[*********************100%***********************]  1 of 1 completed\n",
            "[*********************100%***********************]  1 of 1 completed\n",
            "[*********************100%***********************]  1 of 1 completed\n"
          ]
        },
        {
          "output_type": "stream",
          "name": "stdout",
          "text": [
            "\n",
            "Downloading GOTO.JK - Progress: 15 / 30\n",
            "\n",
            "Downloading ICBP.JK - Progress: 16 / 30\n",
            "\n",
            "Downloading INCO.JK - Progress: 17 / 30\n"
          ]
        },
        {
          "output_type": "stream",
          "name": "stderr",
          "text": [
            "[*********************100%***********************]  1 of 1 completed\n",
            "[*********************100%***********************]  1 of 1 completed\n"
          ]
        },
        {
          "output_type": "stream",
          "name": "stdout",
          "text": [
            "\n",
            "Downloading INDF.JK - Progress: 18 / 30\n",
            "\n",
            "Downloading INKP.JK - Progress: 19 / 30\n"
          ]
        },
        {
          "output_type": "stream",
          "name": "stderr",
          "text": [
            "[*********************100%***********************]  1 of 1 completed\n",
            "[*********************100%***********************]  1 of 1 completed\n",
            "[*********************100%***********************]  1 of 1 completed"
          ]
        },
        {
          "output_type": "stream",
          "name": "stdout",
          "text": [
            "\n",
            "Downloading ITMG.JK - Progress: 20 / 30\n",
            "\n",
            "Downloading KLBF.JK - Progress: 21 / 30\n"
          ]
        },
        {
          "output_type": "stream",
          "name": "stderr",
          "text": [
            "\n",
            "[*********************100%***********************]  1 of 1 completed\n",
            "[*********************100%***********************]  1 of 1 completed\n"
          ]
        },
        {
          "output_type": "stream",
          "name": "stdout",
          "text": [
            "\n",
            "Downloading MDKA.JK - Progress: 22 / 30\n",
            "\n",
            "Downloading MEDC.JK - Progress: 23 / 30\n",
            "\n",
            "Downloading PGAS.JK - Progress: 24 / 30\n"
          ]
        },
        {
          "output_type": "stream",
          "name": "stderr",
          "text": [
            "[*********************100%***********************]  1 of 1 completed\n",
            "[*********************100%***********************]  1 of 1 completed\n",
            "[*********************100%***********************]  1 of 1 completed\n"
          ]
        },
        {
          "output_type": "stream",
          "name": "stdout",
          "text": [
            "\n",
            "Downloading PGEO.JK - Progress: 25 / 30\n",
            "\n",
            "Downloading PTBA.JK - Progress: 26 / 30\n",
            "\n",
            "Downloading SMGR.JK - Progress: 27 / 30\n"
          ]
        },
        {
          "output_type": "stream",
          "name": "stderr",
          "text": [
            "[*********************100%***********************]  1 of 1 completed\n",
            "[*********************100%***********************]  1 of 1 completed\n",
            "[*********************100%***********************]  1 of 1 completed"
          ]
        },
        {
          "output_type": "stream",
          "name": "stdout",
          "text": [
            "\n",
            "Downloading TLKM.JK - Progress: 28 / 30\n",
            "\n",
            "Downloading UNTR.JK - Progress: 29 / 30\n"
          ]
        },
        {
          "output_type": "stream",
          "name": "stderr",
          "text": [
            "\n",
            "[*********************100%***********************]  1 of 1 completed"
          ]
        },
        {
          "output_type": "stream",
          "name": "stdout",
          "text": [
            "\n",
            "Downloading UNVR.JK - Progress: 30 / 30\n"
          ]
        },
        {
          "output_type": "stream",
          "name": "stderr",
          "text": [
            "\n"
          ]
        }
      ]
    },
    {
      "cell_type": "code",
      "source": [
        "import inspect\n",
        "\n",
        "# Get the stock pull function source code\n",
        "stockPullFunction = inspect.getsource(pullStockData)\n",
        "\n",
        "# Note the code to import the stock data:\n",
        "print(stockPullFunction)"
      ],
      "metadata": {
        "colab": {
          "base_uri": "https://localhost:8080/"
        },
        "id": "c799NZaDk5r9",
        "outputId": "2ba23e3a-48e8-4b6c-a7e3-16662c841783"
      },
      "execution_count": null,
      "outputs": [
        {
          "output_type": "stream",
          "name": "stdout",
          "text": [
            "def pullStockData(StockTickers, minDate, maxDate, interval='1mo'):\n",
            "    \n",
            "    # valid intervals: 1m,2m,5m,15m,30m,60m,90m,1h,1d,5d,1wk,1mo,3mo\n",
            "    \n",
            "    # Can dowload the following:\n",
            "    # \"Stock\", \"Open\", \"High\", \"Low\", \"Close\", \"Adj Close\", \"Volume\"\n",
            "    stockMetrics = [\"Adj Close\"]\n",
            "    \n",
            "    # Create df to hold the stocks pulled\n",
            "    PulledStocks = pd.DataFrame(columns = stockMetrics)\n",
            "\n",
            "    count = 0\n",
            "    outOf = len(StockTickers)\n",
            "    \n",
            "    # Pull each stocks\n",
            "    for stock in StockTickers:  \n",
            "        \n",
            "        count += 1 # Keep track\n",
            "        \n",
            "        # Get the stock ticker over the date range\n",
            "        print('\\nDownloading', stock, '- Progress:', count, '/', outOf)\n",
            "        stockTicker = yf.download(stock, start=minDate, end=maxDate, \n",
            "                                  interval=interval)\n",
            "        \n",
            "        # Force reset to coerce to date\n",
            "        stockTicker = stockTicker.reset_index()\n",
            "        \n",
            "        # Assign the ticker name to the stock\n",
            "        stockTicker[\"Stock\"] = stock\n",
            "        \n",
            "        # Concatenate the pulled stock history to the main data frame\n",
            "        PulledStocks = pd.concat([PulledStocks, stockTicker])  \n",
            "        \n",
            "    # Final Column names for the stocks\n",
            "    stockMetrics = [\"Stock\", \"Date\"] + stockMetrics\n",
            "    PulledStocks = PulledStocks[stockMetrics] \n",
            "    \n",
            "    # Rename the columns\n",
            "    PulledStocks = PulledStocks.rename(columns = {'Stock':     'stock',\n",
            "                                                  'Date':      'period',\n",
            "                                                  'Adj Close': 'adjClose'})\n",
            "    \n",
            "    return PulledStocks.dropna() # drop na since mid month sometimes contains nan\n",
            "\n"
          ]
        }
      ]
    },
    {
      "cell_type": "code",
      "source": [
        "# =============================================================================\n",
        "# Manipulate stock data\n",
        "# Create Returns, ExcessReturns, and ExpectedReturns data frames\n",
        "# Using section 10.2 of Financial Modeling, 4th ed., Benninga\n",
        "#\n",
        "# df Percent change pandas: https://pandas.pydata.org/docs/reference/api/pandas.DataFrame.pct_change.html\n",
        "# Group by & mean pandas: https://pandas.pydata.org/docs/reference/api/pandas.DataFrame.groupby.html\n",
        "# Transposing: https://pandas.pydata.org/docs/reference/api/pandas.DataFrame.transpose.html\n",
        "# Matrix Multiplication: https://pandas.pydata.org/docs/reference/api/pandas.DataFrame.dot.html\n",
        "# =============================================================================\n",
        "\n",
        "\n",
        "# 1. Get the percent return for each stock, for each period\n",
        "# -- Calculation: Returns = This period return divided by last period minus 1, for each stock\n",
        "# -----------------------------------------------------------------------------\n",
        "\n",
        "# Create a data frame for the returns using raw data\n",
        "Returns = RawStockDataPivot.copy()\n",
        "\n",
        "# % Return = Percent change from last period to period + 1\n",
        "# Also, Remove the na for the first periods\n",
        "Returns = Returns.pct_change().dropna()\n",
        "\n",
        "\n",
        "# 2. Get the Expected Return for each stock\n",
        "# -- Calculation: ExpectedReturn = mean(Returns), for each stock\n",
        "# -----------------------------------------------------------------------------\n",
        "\n",
        "# Using the Returns data\n",
        "ExpectedReturns = Returns.copy()\n",
        "\n",
        "# Group by all periods and get the mean\n",
        "ExpectedReturns['AllPeriods'] = 'AllPeriods'\n",
        "ExpectedReturns = ExpectedReturns.groupby('AllPeriods').mean()\n",
        "\n",
        "\n",
        "# 3. Calculate the Excess Returns for each stock and month\n",
        "# -- Calculation: ExcessReturns = Returns - ExpectedReturns, for each stock\n",
        "# -----------------------------------------------------------------------------\n",
        "\n",
        "ExcessReturns = Returns.copy() - np.array(ExpectedReturns)\n",
        "\n",
        "\n",
        "# 4. Variance-Covariance Matrix\n",
        "# -- Calculation: ( t(ExcessReturns) * ExcessReturns ) / ( numPeriods - 1 )\n",
        "# -----------------------------------------------------------------------------\n",
        "\n",
        "# Number of periods in sample\n",
        "numPeriods = len(ExcessReturns.index)\n",
        "\n",
        "# Covariances between stocks (variance covariance matrix)\n",
        "VarCov = ExcessReturns.transpose().dot(ExcessReturns) / ( numPeriods - 1 )"
      ],
      "metadata": {
        "id": "VS0gRLFtk8xe"
      },
      "execution_count": null,
      "outputs": []
    },
    {
      "cell_type": "code",
      "source": [
        "# =============================================================================\n",
        "# Functions to Evaluate Risk, Expected Return, and Sharpe Ratio\n",
        "# -- Will be used when optimizing portfolio\n",
        "# =============================================================================\n",
        "\n",
        "# Function to Calculate the ExpectedReturn\n",
        "# -- Calculation: expectedReturn = MONTH_IN_YEAR * ( Weights * t(ExpectedReturns) )\n",
        "# -----------------------------------------------------------------------------\n",
        "def evalExpectedReturn(MONTHS_IN_YEAR, Weights, ExpectedReturns):\n",
        "\n",
        "    Weights = np.array(Weights)\n",
        "\n",
        "    expectedReturn = MONTHS_IN_YEAR * ( Weights.dot( ExpectedReturns.transpose() ) )\n",
        "    return expectedReturn[0]\n",
        "\n",
        "\n",
        "# Function to Calculate the Risk\n",
        "# -- Calculation: risk = sqrt(12) * sqrt( ( Weights * VarCov ) * t(Weights) )\n",
        "# -----------------------------------------------------------------------------\n",
        "def evalRisk(MONTHS_IN_YEAR, Weights, VarCov, ExpectedReturns, minDesiredReturn):\n",
        "\n",
        "    # convert to numpy array\n",
        "    Weights = np.array(Weights)\n",
        "\n",
        "    # IF not the return desired then put a penalty on the portfolio\n",
        "    # if evalExpectedReturn(MONTHS_IN_YEAR, Weights, ExpectedReturns) < minDesiredReturn:\n",
        "    #     risk = 9999 # large penalty\n",
        "\n",
        "    # # Else if desired return, then return actual risk\n",
        "    # else:\n",
        "    risk = np.sqrt(MONTHS_IN_YEAR) * np.sqrt( ( Weights.dot(VarCov) ).dot( Weights.transpose() ) )\n",
        "\n",
        "    return risk\n",
        "\n",
        "\n",
        "# Function to Calculate the SharpeRatio\n",
        "# -- Calculation: (expectedReturn - riskFreeRate) / risk\n",
        "# -----------------------------------------------------------------------------\n",
        "def evalSharpeRatio(expectedReturn, riskFreeRate, risk):\n",
        "\n",
        "    sharpeRatio = ( expectedReturn - riskFreeRate ) / risk\n",
        "    return sharpeRatio"
      ],
      "metadata": {
        "id": "_eCa5rOpk_c1"
      },
      "execution_count": null,
      "outputs": []
    },
    {
      "cell_type": "code",
      "source": [
        "# +++++++++++++++++++++++++++++++++++++++++++++++++++++++++++++++++++++++++++++\n",
        "# Use metaheuristics to solve for the optimal portfolio\n",
        "# +++++++++++++++++++++++++++++++++++++++++++++++++++++++++++++++++++++++++++++\n",
        "\n",
        "# =============================================1================================\n",
        "# evaluation FUNCTION\n",
        "# evaluation function to evaluate a real-valued solution x\n",
        "# note: the feasible space is an n-dimensional hypercube centered at the origin with side length = 2 * 500\n",
        "# =============================================================================\n",
        "def evalFunction(Weights, evalGoal='risk'):\n",
        "\n",
        "    # For every portfolio portfolio, calculate the fitness value based on evaluation function\n",
        "\n",
        "    ## Calculate the risk\n",
        "    risk = evalRisk(MONTHS_IN_YEAR, Weights, VarCov, ExpectedReturns, minDesiredReturn)\n",
        "\n",
        "    ## Calculate the sharpe ratio\n",
        "    sharpeRatio = evalExpectedReturn(MONTHS_IN_YEAR, Weights, ExpectedReturns)\n",
        "\n",
        "    fitnessValue = 0 # initialize the output variable\n",
        "\n",
        "    # Evaluate using the risk (minimize the risk of portfolio)\n",
        "    if evalGoal == 'risk':\n",
        "        fitnessValue = risk\n",
        "\n",
        "    # Else use the sharpe ratio (maximize the sharpe ratio of portfolio):\n",
        "    # Note changed signs because we want to dynamically maximize\n",
        "    else:\n",
        "        fitnessValue = -sharpeRatio\n",
        "\n",
        "    return fitnessValue\n",
        "\n",
        "# =============================================================================\n",
        "# GLOBAL MIN VALUE AND POSITION SEARCH FUNCTION\n",
        "# Returns the 2 element list (each containing a single value) with the global best portfolio's:\n",
        "# ---- [0] min value and\n",
        "# ---- [1] associate Weights of\n",
        "# =============================================================================\n",
        "def getGlobalBest(FitnessValues, Weights, numPorfolios):\n",
        "    minValue = np.min(FitnessValues)         # Find the Minimum fitness value of all portfolios\n",
        "    minIndex = FitnessValues.index(minValue) # Find the index of the Weights for the min. fit. value\n",
        "\n",
        "    minPosition = Weights[minIndex][:] # Now get a copy of the portfolio's Weights with min index\n",
        "\n",
        "    # Returns: the global best portfolio's minimum fitness value and its Weights\n",
        "    return [minValue, minPosition]\n",
        "\n",
        "\n",
        "# =============================================================================\n",
        "# LOCAL MIN VALUE AND POSITION SEARCH FUNCTION\n",
        "# Topology: Ring structure with n neighbors  (default 2)\n",
        "# Returns the 2 element list of lists with the each portfolio's local best within neighborhood\n",
        "# ---- [0] min value and\n",
        "# ---- [1] associate Weights of\n",
        "# Can change numStocksInNbrhd to consider more or less in portfolio's neighborhood\n",
        "# =============================================================================\n",
        "def getLocalBest(FitnessValues, Weights, numPorfolios,\n",
        "                  numStocksInNbrhd = 2):  # Number of portfolios to compare to for local best\n",
        "\n",
        "    lBestFitValue = [] # will hold the best VALUE    of the n surrounding portfolios, for each portfolio\n",
        "    lBestPosition = [] # will hold the best POSITION of the n surrounding portfolios, for each portfolio\n",
        "\n",
        "\n",
        "    # For every portfolio in the portfolio swarm, (starting at n less than index 0)\n",
        "    for portfolio in range(-numStocksInNbrhd, numPorfolios - numStocksInNbrhd):\n",
        "\n",
        "        # Identify the two neighbors fitness value of this portfolio,\n",
        "        # which are the two precedng portfolios\n",
        "        personalBestNeighbor1 = FitnessValues[portfolio]\n",
        "        personalBestNeighbor2 = FitnessValues[portfolio + 1]\n",
        "\n",
        "        # Identify the lowest fitness value of this portfolio's the two preciding neighbors\n",
        "        minNeighValue = min(personalBestNeighbor1, personalBestNeighbor2)\n",
        "\n",
        "        # Store the index of the portfolio\n",
        "        minNeighIndex = FitnessValues.index(minNeighValue)\n",
        "\n",
        "        # Store the portfolio's best neighbors fitness value and Weights\n",
        "        lBestFitValue.append(FitnessValues[minNeighIndex])\n",
        "        lBestPosition.append(Weights[minNeighIndex])\n",
        "\n",
        "    # Returns a list of portfolios and the min of their n best fit. valued neighbors\n",
        "    return[lBestFitValue, lBestPosition]\n",
        "\n",
        "\n",
        "# If you needed to index the list just returned for global or local best\n",
        "VALUE_IDX    = 0\n",
        "POSITION_IDX = 1\n",
        "\n",
        "\n",
        "# =============================================================================\n",
        "# STEP 1 - SWARM INITIALIZATION / EVALUATION\n",
        "# Randomly initialize a portfolio swarm instance\n",
        "# Set the partical's best to it's starting Weights\n",
        "# =============================================================================\n",
        "def initializeSwarm(numPorfolios, numStocksInPort, functionToGetBest, evalGoal, absoluteMoveLimit):\n",
        "\n",
        "    # In the current time period, Weights[portfolio] and Velocity[portfolio] of each portfolio i,\n",
        "    Weights  = [] # to hold the portfolio weights\n",
        "    Velocity = [] # to hold the portfolio velocities\n",
        "\n",
        "    # Lists containing info related to each portfolio in portfolio swarm\n",
        "    pCurrFitValue = []  # X[portfolio] The current Weights of portfolio i\n",
        "\n",
        "    # For each portfolio and stock, randomly initialize the...\n",
        "    for portfolio in range(numPorfolios):\n",
        "        # for stock in range(numStocksInPort):\n",
        "\n",
        "        # Create a random feasible solution\n",
        "        randomValues = np.random.rand(numStocksInPort)\n",
        "        randomWeights = randomValues / sum(randomValues)\n",
        "\n",
        "        # Ensure that it is an initial feasible solution meeting return contraint\n",
        "        while evalExpectedReturn(MONTHS_IN_YEAR, randomWeights, ExpectedReturns) < minDesiredReturn:\n",
        "            randomValues = np.random.rand(numStocksInPort)\n",
        "            randomWeights = randomValues / sum(randomValues)\n",
        "\n",
        "\n",
        "        # Position: give random solution of weights summing to 1\n",
        "        Weights.append(randomWeights)\n",
        "\n",
        "        # Velocity: give random value between lower and upper bound\n",
        "        Velocity.append(np.random.rand(numStocksInPort) * absoluteMoveLimit)\n",
        "\n",
        "        # 1.1 - Evaluate fitness value\n",
        "        pCurrFitValue.append(np.sum( evalFunction(Weights[:], evalGoal) ))  # evaluate the current Weights's fitness value\n",
        "\n",
        "    # 1.2 - Log the individual and global bests\n",
        "    pBestPosition = Weights[:]       # initialize pBestPosition to the starting Weights\n",
        "    pBestFitValue = pCurrFitValue[:]  # initialize pBestPosition to the starting Weights's value\n",
        "\n",
        "\n",
        "    # 1.3 - Log the Global or local best (depends on chosen method) fitness value and Weights\n",
        "    glBestFitValue, glBestPosition = functionToGetBest(pBestFitValue[:], pBestPosition[:], numPorfolios)\n",
        "\n",
        "    return [Weights, Velocity, pCurrFitValue,\n",
        "            pBestPosition, pBestFitValue,\n",
        "            glBestFitValue, glBestPosition]\n",
        "\n",
        "\n",
        "# =============================================================================\n",
        "# UPDATE VELOCITY AND POSITION\n",
        "# =============================================================================\n",
        "def updateVelocityAndWeights(intertiaWeight, Velocity, Weights, phi1, phi2, pBestPosition, glBestPosition,\n",
        "                              numPorfolios, numStocksInPort, absoluteMoveLimit):\n",
        "# Velocity --------------------------------------------------------------------\n",
        "\n",
        "    ## random weights of r for random Velocity adjustment\n",
        "    r1, r2 = np.random.rand(), np.random.rand()\n",
        "\n",
        "    ## Calculations of updating Velocity, separated by\n",
        "    ## intertia + cognitive + social (for simplicity)\n",
        "    vInertia   = np.multiply(intertiaWeight, Velocity[:])                          # Interia   component of updated Velocity\n",
        "    vCognitive = np.multiply(phi1*r1, np.subtract( pBestPosition[:], Weights[:])) # Cognitive component of \"\"\n",
        "    vSocial    = np.multiply(phi2*r2, np.subtract(glBestPosition[:], Weights[:])) # Social    component of \"\"\n",
        "\n",
        "    ## Update the new Velocity to the summation of intertia, cognitive, and social\n",
        "    newVelocity =  vInertia[:] + vCognitive[:] + vSocial[:]\n",
        "\n",
        "    ## Limit the Velocity between the upper and lower bound limits\n",
        "    for portfolio in range(numPorfolios):\n",
        "        for stock in range(numStocksInPort):\n",
        "\n",
        "            # If the new Velocity of portfolio i is > the ub move limit, then reduce to the limit\n",
        "            if newVelocity[portfolio][stock] > absoluteMoveLimit:\n",
        "                newVelocity[portfolio][stock] = absoluteMoveLimit\n",
        "\n",
        "            # If the new Velocity of portfolio i is < the limit, then increase to the limit\n",
        "            if newVelocity[portfolio][stock] < -absoluteMoveLimit:\n",
        "                newVelocity[portfolio][stock] = -absoluteMoveLimit\n",
        "\n",
        "    # Position ----------------------------------------------------------------\n",
        "\n",
        "    ## Update new Weights based on the updated Velocity\n",
        "    newWeights = Weights[:] + newVelocity[:]\n",
        "\n",
        "\n",
        "    ## Make sure that the Weights is within the bounds -----------------------\n",
        "\n",
        "    # For each portfolio and stock\n",
        "    for portfolio in range(numPorfolios):\n",
        "        for stock in range(numStocksInPort):\n",
        "\n",
        "            # Push the new Weights to lower bound if lower\n",
        "            if newWeights[portfolio][stock] < lowerBound:\n",
        "                newWeights[portfolio][stock] = lowerBound\n",
        "\n",
        "            # Push the new Weights to upper bound if higher\n",
        "            if newWeights[portfolio][stock] > upperBound:\n",
        "                newWeights[portfolio][stock] = upperBound\n",
        "\n",
        "\n",
        "    for portfolio in range(numPorfolios):\n",
        "\n",
        "        # Balance the weights to equal 1.\n",
        "        # Be sure to keep move limit close to 1\n",
        "        newWeights[portfolio] = np.array(newWeights[portfolio]) / sum(newWeights[portfolio])\n",
        "\n",
        "\n",
        "    # Convert Weights and Velocity back to list ------------------------------\n",
        "    newWeights  = newWeights.tolist()\n",
        "    newVelocity = newVelocity.tolist()\n",
        "\n",
        "    return [newWeights, newVelocity]\n",
        "\n",
        "\n",
        "# =============================================================================\n",
        "# Compare current Weights fitness value to the current best (for each portfolio)\n",
        "# =============================================================================\n",
        "def calculatePortfolioBests(Weights, numPorfolios, numStocksInPort,\n",
        "                           pCurrFitValue, pBestPosition, pBestFitValue, evalGoal):\n",
        "    # Calculate the fitness of the new Weights\n",
        "    for portfolio in range(numPorfolios):\n",
        "        # for stock in range(numStocksInPort):\n",
        "\n",
        "        # Get the current fitness value of the new Weights\n",
        "        pCurrFitValue[portfolio] = evalFunction(Weights[:][portfolio], evalGoal)\n",
        "\n",
        "        # Compare the current Weights' value to their person best\n",
        "        if pCurrFitValue[portfolio] < pBestFitValue[portfolio]:\n",
        "\n",
        "            # If better, then set the best VALUE to the current value (as a copy [:])\n",
        "            pBestFitValue[portfolio] = pCurrFitValue[:][portfolio]\n",
        "\n",
        "            # If better, then set the best POSITION to the current Weights  (as a copy [:])\n",
        "            pBestPosition[portfolio] = Weights[:][portfolio]\n",
        "\n",
        "    return [pCurrFitValue, pBestPosition, pBestFitValue]\n",
        "\n",
        "\n",
        "# =============================================================================\n",
        "# DISPLAY GLOBAL BEST AND DIMENSIONS FUNCTION\n",
        "# Function for displaying the global best and its dimensions\n",
        "# =============================================================================\n",
        "def displayGlobalBest(glBestFitValue, glBestPosition, numStocksInPort,\n",
        "                      printDims, StockTickers, expectedReturn,\n",
        "                      riskFreeRate, evalGoal,\n",
        "                      numPeriods=numPeriods,\n",
        "                      MONTHS_IN_YEAR=MONTHS_IN_YEAR):\n",
        "\n",
        "    # The sharpe ratio\n",
        "    sharpeRatio = evalSharpeRatio(expectedReturn, riskFreeRate, glBestFitValue)\n",
        "\n",
        "    # Total % return over the entire period\n",
        "    monthsInSample = numPeriods/MONTHS_IN_YEAR # since on monthly basis\n",
        "    returnOverPeriod = (1 + expectedReturn) ** monthsInSample\n",
        "\n",
        "    # Flip signs if maximizing sharpe\n",
        "    if evalGoal != 'risk':\n",
        "        glBestFitValue = -glBestFitValue\n",
        "        sharpeRatio    = -sharpeRatio\n",
        "\n",
        "    # Print the global optima\n",
        "    print('\\n```')\n",
        "    print('Key Summary Statistics -----------------')\n",
        "    print(  'Global Best Annualized Risk:\\t ' + str(round(100 * glBestFitValue, 1))  + '%')\n",
        "    print(  'Annualized Expected Return:\\t ' + str(round(100 * expectedReturn, 1))  + '%')\n",
        "    print(  'Sharpe Ratio:\\t\\t\\t% 0.2f' % sharpeRatio)\n",
        "    print(  'Expected Return over', str(round(monthsInSample, 1) ), 'Years:  '\n",
        "          + str(round(100 * returnOverPeriod, 1))  + '%')\n",
        "\n",
        "\n",
        "    # Print each stock (if toggled)\n",
        "    if printDims:\n",
        "        print('\\nGlobal best weights in each stock (Only includes stocks to invest in):')\n",
        "        print('```')\n",
        "\n",
        "        # Print the Weights of each stock in markdown table format\n",
        "        print('| Ticker | Opt. Weight |', sep ='')\n",
        "        print('|--------|-------------|')\n",
        "        for stock in range(numStocksInPort):\n",
        "            if glBestPosition[stock] > 0.001:\n",
        "                print('|' + str(StockTickers[stock]).rjust(7, ' '),\n",
        "                      '|' + '{:.1f}'.format(100 * round(glBestPosition[stock], 3) ).rjust(11, ' ') + '% |'\n",
        "                      )\n",
        "\n",
        "\n",
        "# =============================================================================\n",
        "# Plot the optimal weights and prices performance\n",
        "# =============================================================================\n",
        "def plotOptimalPerformance(RawStockDataPivot, OptimalWeights):\n",
        "\n",
        "    # Calculate the weighted prices using adj close prices and optimal weights\n",
        "    OptimizedPrices = RawStockDataPivot.copy().dropna().dot(OptimalWeights.copy())\n",
        "\n",
        "    # Create a plot\n",
        "    fig = plt.figure()\n",
        "    ax = fig.add_subplot(1,1,1)\n",
        "\n",
        "    # Plot the weighted prices\n",
        "    plt.plot(OptimizedPrices)\n",
        "\n",
        "    # Labels\n",
        "    ax.set_title(\"Wt.'d Monthly Adj. Close Price of Optimal Portfolio\")\n",
        "    ax.set_xlabel('Month of Year (Year Only Shown for Simplicity)')\n",
        "    ax.set_ylabel('Weighted Adj. Close Price (USD)')\n"
      ],
      "metadata": {
        "id": "g-3HZU98lDU8"
      },
      "execution_count": null,
      "outputs": []
    },
    {
      "cell_type": "code",
      "source": [
        "# =============================================================================\n",
        "# SWARM OPTIMIZATION FUNCTION\n",
        "# Parameters:\n",
        "# ---- evalGoal:        Minimize 'risk' or maximize 'sharpe' ratio\n",
        "# ---- numPorfolios:    The number of portfolios within the portfolio swarm\n",
        "# ---- intertiaWeight:  The weight assigned to the intertia component of the Velocity eq.\n",
        "# ---- phi1:            Cognitive weight of the Velocity equation. Note phi1 + phi2 <= 4\n",
        "# ---- phi2:            Social    weight of the Velocity equation. Note phi1 + phi2 <= 4\n",
        "# ---- totalIterations: The total number of iterations before stopping (Stopping criterion)\n",
        "# ---- method:          Can use 'local' or 'global' best methods.\n",
        "# ----                  'local' uses Ring Structure with 2 neighbors by default\n",
        "# ----                  If using 2D and 'global' best method, will export CSV.\n",
        "# ----                  Reason for exporting is to read in data to R for plotting iterations\n",
        "# ---- printDims:       Print the dimensions' value or not\n",
        "# ---- StockTickers:    Tickers of the stocks pulled\n",
        "# ---- RawStockDataPivot: Raw stock adj.close prices pivoted for showing performance over duration\n",
        "# =============================================================================\n",
        "\n",
        "def optimizePortfolioPSO( # -------------------- Defaults --------------------\n",
        "    evalGoal        = 'risk',   # Minimize 'risk' or maximize 'sharpe'\n",
        "    minDesiredReturn= minDesiredReturn,# THe minimum desired return\n",
        "    numPorfolios    = 5,        # number of portfolios in swar\n",
        "    phi1            = 2,        # Cognitive weight\n",
        "    phi2            = 2,        # Social weight\n",
        "    intertiaWeight  = 0.1,      # Constant Inertia weighting value,\n",
        "    absoluteMoveLimit = 0.1,    # max of 10 pp change in weight\n",
        "    totalIterations = 10000,    # Stopping criteria = the total number of iterations\n",
        "    method          = 'local',  # 'local' or 'global' best function name\n",
        "    printDims       = True,     # Print the stock's value or not,\n",
        "    StockTickers    = StockTickers, # Tickers of the stocks pulled,\n",
        "    RawStockDataPivot = RawStockDataPivot # The raw stock data for plotting weighted performance\n",
        "    ):\n",
        "\n",
        "    numStocksInPort = len(StockTickers) # number of dimensions of problem\n",
        "\n",
        "\n",
        "    # Initialize to global best function by default\n",
        "    functionToGetBest = getGlobalBest\n",
        "\n",
        "    # If not using the global best, then switch to the local best method\n",
        "    if method != 'global':\n",
        "        functionToGetBest = getLocalBest\n",
        "\n",
        "\n",
        "    # -----------------------------------------------------------------------------\n",
        "    # INITIALIZE POSITION AND VELOCITY, and INITIAL BESTS\n",
        "    # the portfolio swarm will be represented as a list of Weights, velocities, values,\n",
        "    # pBestPosition, and pBestPosition values\n",
        "    # Note: Weights[0] and Velocity[0] provides the Weights and Velocity of portfolio 0;\n",
        "    # Weights[1] and Velocity[1] provides the Weights and Velocity of portfolio 1; and so on.\n",
        "    # -----------------------------------------------------------------------------\n",
        "\n",
        "\n",
        "    # Step 1: Initialize portfolio swarm and get the portfolios' and global best (and current Weights)\n",
        "    Weights, Velocity, pCurrFitValue, pBestPosition, pBestFitValue, glBestFitValue, glBestPosition = initializeSwarm(numPorfolios, numStocksInPort,\n",
        "                                                                                                                     functionToGetBest, evalGoal, absoluteMoveLimit)\n",
        "\n",
        "    # Create empty lists for holding the portfolio swarm iterations\n",
        "    positionIterations      = [] # Each portfolio's Velocity\n",
        "    velocityIterations      = [] # Each portfolio's Weights\n",
        "    gBestPositionIterations = [] # The current Global Best Position\n",
        "\n",
        "\n",
        "    # -----------------------------------------------------------------------------\n",
        "    # Main Loop\n",
        "    # -----------------------------------------------------------------------------\n",
        "\n",
        "    iteration = 0\n",
        "\n",
        "    # While meeting total iteration and min desired return requirements\n",
        "    while (iteration < totalIterations) and ( ( evalExpectedReturn(MONTHS_IN_YEAR, glBestPosition[:], ExpectedReturns) < minDesiredReturn) or ( evalExpectedReturn(MONTHS_IN_YEAR, glBestPosition[:], ExpectedReturns) > minDesiredReturn * 1.01) ):\n",
        "\n",
        "        # Step 0: Keep track of each iterations/stock for Velocity, Weights, and current global best\n",
        "        velocityIterations.append(Velocity)\n",
        "        positionIterations.append(Weights)\n",
        "        gBestPositionIterations.append(glBestPosition)\n",
        "\n",
        "        # Step 2: Update the Velocity and Weights\n",
        "        Weights, Velocity = updateVelocityAndWeights(intertiaWeight, Velocity, Weights,\n",
        "                                                     phi1, phi2, pBestPosition, glBestPosition,\n",
        "                                                     numPorfolios, numStocksInPort,\n",
        "                                                     absoluteMoveLimit)\n",
        "\n",
        "        # Step 3: Recalculate the portfolio and global bests\n",
        "        pCurrFitValue, pBestPosition, pBestFitValue = calculatePortfolioBests(Weights,\n",
        "                                                                              numPorfolios, numStocksInPort,\n",
        "                                                                              pCurrFitValue,\n",
        "                                                                              pBestPosition,\n",
        "                                                                              pBestFitValue,\n",
        "                                                                              evalGoal)\n",
        "\n",
        "        # Step 4: Get the Global or local best (depends on chosen method) fitness value and Weights\n",
        "        glBestFitValue, glBestPosition = functionToGetBest(pBestFitValue[:], pBestPosition[:], numPorfolios)\n",
        "\n",
        "        iteration += 1 # increment iterator\n",
        "\n",
        "\n",
        "    # -----------------------------------------------------------------------------\n",
        "    # Global Best\n",
        "    # -----------------------------------------------------------------------------\n",
        "\n",
        "    # Finally, if using the local best method, get the absolute best from the local bests\n",
        "    if method == 'local':\n",
        "        gBestFitValue, gBestPosition = getGlobalBest(glBestFitValue, glBestPosition, numPorfolios)\n",
        "        expectedReturn = evalExpectedReturn(MONTHS_IN_YEAR, gBestPosition, ExpectedReturns)\n",
        "\n",
        "    else: # if not local best, then change the gl best is the global best\n",
        "        gBestFitValue, gBestPosition = glBestFitValue, glBestPosition\n",
        "        expectedReturn = evalExpectedReturn(MONTHS_IN_YEAR, gBestPosition, ExpectedReturns)\n",
        "\n",
        "    # -----------------------------------------------------------------------------\n",
        "    # Print and Export\n",
        "    # -----------------------------------------------------------------------------\n",
        "\n",
        "    # Print the global (or local best) and each dimensions' Weights\n",
        "    displayGlobalBest(gBestFitValue, gBestPosition, numStocksInPort, printDims,\n",
        "                      StockTickers, expectedReturn, riskFreeRate, evalGoal)\n",
        "\n",
        "    # Show the weighted price perfgormance of the oprtimal portfolio weights\n",
        "    plotOptimalPerformance(RawStockDataPivot, gBestPosition.copy())\n",
        "\n",
        "    return [gBestPosition, gBestFitValue] # return the best weights and risk"
      ],
      "metadata": {
        "id": "YGbkJzZAlGY1"
      },
      "execution_count": null,
      "outputs": []
    },
    {
      "cell_type": "code",
      "source": [
        "# Increase from 3000 to 10000\n",
        "totalIterations  = 10000     # Main Stopping criteria = the total number of iterations\n",
        "\n",
        "# Decrease from 30 to 10\n",
        "numPorfolios     = 10        # number of portfolios in swarm to simulate\n",
        "\n",
        "# Run optimization again\n",
        "gBestSolution = optimizePortfolioPSO(\n",
        "                    evalGoal        = evalGoal,        # Minimize 'risk' or maximize 'sharpe'\n",
        "                    minDesiredReturn= minDesiredReturn,# The minimum desired return\n",
        "                    numPorfolios    = numPorfolios,    # number of portfolios in swarm to simulate\n",
        "                    totalIterations = totalIterations, # Main Stopping criteria = the total number of iterations\n",
        "                    method          = method,          # 'local' or 'global' best function name\n",
        "                    StockTickers    = StockTickers     # The stock tickers\n",
        "                    )"
      ],
      "metadata": {
        "colab": {
          "base_uri": "https://localhost:8080/",
          "height": 698
        },
        "id": "IcD_uGRElQqF",
        "outputId": "8d1f674e-4afb-49f7-c36e-b1abf9d9a053"
      },
      "execution_count": null,
      "outputs": [
        {
          "output_type": "stream",
          "name": "stdout",
          "text": [
            "\n",
            "```\n",
            "Key Summary Statistics -----------------\n",
            "Global Best Annualized Risk:\t 67.6%\n",
            "Annualized Expected Return:\t 67.6%\n",
            "Sharpe Ratio:\t\t\t 0.98\n",
            "Expected Return over 9.9 Years:  16712.8%\n",
            "\n",
            "Global best weights in each stock (Only includes stocks to invest in):\n",
            "```\n",
            "| Ticker | Opt. Weight |\n",
            "|--------|-------------|\n",
            "|    DHR |      100.0% |\n"
          ]
        },
        {
          "output_type": "display_data",
          "data": {
            "text/plain": [
              "<Figure size 640x480 with 1 Axes>"
            ],
            "image/png": "[encoded data removed]"
          },
          "metadata": {}
        }
      ]
    },
    {
      "cell_type": "code",
      "source": [
        "# Change the evaluation to maximize Sharpe ratio\n",
        "evalGoal         = 'sharpe'    # Minimze 'risk' or maximize 'sharpe'\n",
        "\n",
        "# Reset recent change of iterations and the number of portfolios\n",
        "totalIterations  = 3000      # Main Stopping criteria = the total number of iterations\n",
        "numPorfolios     = 30        # number of portfolios in swarm to simulate\n",
        "\n",
        "# Run optimization again\n",
        "gBestSolution = optimizePortfolioPSO(\n",
        "                    evalGoal        = evalGoal,        # Minimize 'risk' or maximize 'sharpe'\n",
        "                    minDesiredReturn= minDesiredReturn,# The minimum desired return\n",
        "                    numPorfolios    = numPorfolios,    # number of portfolios in swarm to simulate\n",
        "                    totalIterations = totalIterations, # Main Stopping criteria = the total number of iterations\n",
        "                    method          = method,          # 'local' or 'global' best function name\n",
        "                    StockTickers    = StockTickers     # The stock tickers\n",
        "                    )"
      ],
      "metadata": {
        "colab": {
          "base_uri": "https://localhost:8080/",
          "height": 698
        },
        "id": "UG1X1UEylToO",
        "outputId": "930784a8-2932-4273-f9da-6a851966b99d"
      },
      "execution_count": null,
      "outputs": [
        {
          "output_type": "stream",
          "name": "stdout",
          "text": [
            "\n",
            "```\n",
            "Key Summary Statistics -----------------\n",
            "Global Best Annualized Risk:\t 67.6%\n",
            "Annualized Expected Return:\t 67.6%\n",
            "Sharpe Ratio:\t\t\t 0.98\n",
            "Expected Return over 9.9 Years:  16712.8%\n",
            "\n",
            "Global best weights in each stock (Only includes stocks to invest in):\n",
            "```\n",
            "| Ticker | Opt. Weight |\n",
            "|--------|-------------|\n",
            "|    DHR |      100.0% |\n"
          ]
        },
        {
          "output_type": "display_data",
          "data": {
            "text/plain": [
              "<Figure size 640x480 with 1 Axes>"
            ],
            "image/png": "[encoded data removed]"
          },
          "metadata": {}
        }
      ]
    },
    {
      "cell_type": "code",
      "source": [
        "# Change the the neighborhood operator to global best (from local best)\n",
        "method = 'global'\n",
        "\n",
        "# Reset recent change of sharpe ratio\n",
        "evalGoal = 'risk'    # Minimize 'risk' or maximize 'sharpe'\n",
        "\n",
        "# Run optimization again\n",
        "gBestSolution = optimizePortfolioPSO(\n",
        "                    evalGoal        = evalGoal,        # Minimize 'risk' or maximize 'sharpe'\n",
        "                    minDesiredReturn= minDesiredReturn,# The minimum desired return\n",
        "                    numPorfolios    = numPorfolios,    # number of portfolios in swarm to simulate\n",
        "                    totalIterations = totalIterations, # Main Stopping criteria = the total number of iterations\n",
        "                    method          = method,          # 'local' or 'global' best function name\n",
        "                    StockTickers    = StockTickers     # The stock tickers\n",
        "                    )"
      ],
      "metadata": {
        "colab": {
          "base_uri": "https://localhost:8080/",
          "height": 1000
        },
        "id": "mqBCWkrulsYd",
        "outputId": "0ee00e14-fbeb-4f9e-9e6f-f3bb071c896b"
      },
      "execution_count": null,
      "outputs": [
        {
          "output_type": "stream",
          "name": "stdout",
          "text": [
            "\n",
            "```\n",
            "Key Summary Statistics -----------------\n",
            "Global Best Annualized Risk:\t 14.3%\n",
            "Annualized Expected Return:\t 18.0%\n",
            "Sharpe Ratio:\t\t\t 1.15\n",
            "Expected Return over 9.9 Years:  518.3%\n",
            "\n",
            "Global best weights in each stock (Only includes stocks to invest in):\n",
            "```\n",
            "| Ticker | Opt. Weight |\n",
            "|--------|-------------|\n",
            "|   AAPL |        1.0% |\n",
            "|   MSFT |        2.0% |\n",
            "|   GOOG |        1.8% |\n",
            "|  GOOGL |        2.2% |\n",
            "|   AMZN |        1.8% |\n",
            "|   TSLA |        1.2% |\n",
            "|    JNJ |        1.9% |\n",
            "|    UNH |        0.7% |\n",
            "|   META |        0.4% |\n",
            "|      V |        1.1% |\n",
            "|   NVDA |        0.2% |\n",
            "|    XOM |        1.1% |\n",
            "|     PG |        1.0% |\n",
            "|    WMT |        1.8% |\n",
            "|    JPM |        2.6% |\n",
            "|     MA |        0.6% |\n",
            "|    LLY |        1.5% |\n",
            "|     HD |        3.2% |\n",
            "|    PFE |        2.8% |\n",
            "|    CVX |        3.0% |\n",
            "|    BAC |        2.3% |\n",
            "|     KO |        1.8% |\n",
            "|   ABBV |        1.2% |\n",
            "|    MRK |        2.3% |\n",
            "|    PEP |        2.5% |\n",
            "|     VZ |        2.5% |\n",
            "|    TMO |        1.2% |\n",
            "|   COST |        3.5% |\n",
            "|   AVGO |        1.8% |\n",
            "|    ABT |        1.0% |\n",
            "|    DHR |        2.4% |\n",
            "|   ORCL |        1.9% |\n",
            "|    MCD |        0.8% |\n",
            "|   ADBE |        1.4% |\n",
            "|   CSCO |        3.3% |\n",
            "|  CMCSA |        2.9% |\n",
            "|    CRM |        2.4% |\n",
            "|    DIS |        1.6% |\n",
            "|   TMUS |        2.6% |\n",
            "|    NKE |        2.4% |\n",
            "|    BMY |        3.7% |\n",
            "|     PM |        3.1% |\n",
            "|    UPS |        1.8% |\n",
            "|   INTC |        1.1% |\n",
            "|    NEE |        2.2% |\n",
            "|      T |        3.4% |\n",
            "|    WFC |        3.8% |\n",
            "|    TXN |        1.7% |\n",
            "|    RTX |        1.9% |\n",
            "|   QCOM |        3.4% |\n"
          ]
        },
        {
          "output_type": "display_data",
          "data": {
            "text/plain": [
              "<Figure size 640x480 with 1 Axes>"
            ],
            "image/png": "[encoded data removed]"
          },
          "metadata": {}
        }
      ]
    },
    {
      "cell_type": "code",
      "source": [
        "# Increase from 3000 to 10000\n",
        "totalIterations  = 10000     # Main Stopping criteria = the total number of iterations\n",
        "\n",
        "# Increase from 30 to 100\n",
        "numPorfolios     = 100        # number of portfolios in swarm to simulate\n",
        "\n",
        "# Reset recent change of neighborhood operator back to local best\n",
        "method = 'local'\n",
        "\n",
        "# Run optimization again\n",
        "gBestSolution = optimizePortfolioPSO(\n",
        "                    evalGoal        = evalGoal,        # Minimize 'risk' or maximize 'sharpe'\n",
        "                    minDesiredReturn= minDesiredReturn,# The minimum desired return\n",
        "                    numPorfolios    = numPorfolios,    # number of portfolios in swarm to simulate\n",
        "                    totalIterations = totalIterations, # Main Stopping criteria = the total number of iterations\n",
        "                    method          = method,          # 'local' or 'global' best function name\n",
        "                    StockTickers    = StockTickers     # The stock tickers\n",
        "                    )"
      ],
      "metadata": {
        "colab": {
          "base_uri": "https://localhost:8080/",
          "height": 958
        },
        "id": "zVatVMfJlw_6",
        "outputId": "c849da5f-36e6-4b31-8774-5ee07560d2f8"
      },
      "execution_count": null,
      "outputs": [
        {
          "output_type": "stream",
          "name": "stdout",
          "text": [
            "\n",
            "```\n",
            "Key Summary Statistics -----------------\n",
            "Global Best Annualized Risk:\t 10.5%\n",
            "Annualized Expected Return:\t 16.1%\n",
            "Sharpe Ratio:\t\t\t 1.38\n",
            "Expected Return over 9.9 Years:  437.8%\n",
            "\n",
            "Global best weights in each stock (Only includes stocks to invest in):\n",
            "```\n",
            "| Ticker | Opt. Weight |\n",
            "|--------|-------------|\n",
            "|   MSFT |        0.8% |\n",
            "|    UNH |        6.8% |\n",
            "|    WMT |        6.3% |\n",
            "|     MA |        0.8% |\n",
            "|    PFE |        1.3% |\n",
            "|   ABBV |        8.5% |\n",
            "|    PEP |        4.7% |\n",
            "|     VZ |        1.3% |\n",
            "|    TMO |        3.6% |\n",
            "|   AVGO |        9.1% |\n",
            "|   CSCO |       17.0% |\n",
            "|    BMY |       12.8% |\n",
            "|   INTC |        7.6% |\n",
            "|    WFC |       10.2% |\n",
            "|    TXN |        3.2% |\n",
            "|    RTX |        6.0% |\n"
          ]
        },
        {
          "output_type": "display_data",
          "data": {
            "text/plain": [
              "<Figure size 640x480 with 1 Axes>"
            ],
            "image/png": "[encoded data removed]"
          },
          "metadata": {}
        }
      ]
    },
    {
      "cell_type": "code",
      "source": [
        "# Increase from 3000 to 10000\n",
        "totalIterations  = 10000     # Main Stopping criteria = the total number of iterations\n",
        "\n",
        "# Increase from 30 to 200\n",
        "numPorfolios     = 200        # number of portfolios in swarm to simulate\n",
        "\n",
        "gBestSolution = optimizePortfolioPSO(\n",
        "                    evalGoal        = evalGoal,        # Minimize 'risk' or maximize 'sharpe'\n",
        "                    minDesiredReturn= minDesiredReturn,# The minimum desired return\n",
        "                    numPorfolios    = numPorfolios,    # number of portfolios in swarm to simulate\n",
        "                    totalIterations = totalIterations, # Main Stopping criteria = the total number of iterations\n",
        "                    method          = method,          # 'local' or 'global' best function name\n",
        "                    StockTickers    = StockTickers     # The stock tickers\n",
        "                    )"
      ],
      "metadata": {
        "colab": {
          "base_uri": "https://localhost:8080/",
          "height": 958
        },
        "id": "U1RLt_HTlyuU",
        "outputId": "c4f7c6fb-4449-45b1-ccac-0cb22372e0a6"
      },
      "execution_count": null,
      "outputs": [
        {
          "output_type": "stream",
          "name": "stdout",
          "text": [
            "\n",
            "```\n",
            "Key Summary Statistics -----------------\n",
            "Global Best Annualized Risk:\t 10.5%\n",
            "Annualized Expected Return:\t 16.2%\n",
            "Sharpe Ratio:\t\t\t 1.40\n",
            "Expected Return over 9.9 Years:  445.0%\n",
            "\n",
            "Global best weights in each stock (Only includes stocks to invest in):\n",
            "```\n",
            "| Ticker | Opt. Weight |\n",
            "|--------|-------------|\n",
            "|   MSFT |        0.9% |\n",
            "|    UNH |        6.8% |\n",
            "|    WMT |        6.6% |\n",
            "|     MA |        0.9% |\n",
            "|   ABBV |        8.3% |\n",
            "|    PEP |        4.0% |\n",
            "|     VZ |        1.8% |\n",
            "|    TMO |        2.7% |\n",
            "|   AVGO |        9.3% |\n",
            "|   CSCO |       17.1% |\n",
            "|    BMY |       13.0% |\n",
            "|   INTC |        7.5% |\n",
            "|    WFC |       10.3% |\n",
            "|    TXN |        1.7% |\n",
            "|    RTX |        6.0% |\n",
            "|   QCOM |        3.1% |\n"
          ]
        },
        {
          "output_type": "display_data",
          "data": {
            "text/plain": [
              "<Figure size 640x480 with 1 Axes>"
            ],
            "image/png": "[encoded data removed]"
          },
          "metadata": {}
        }
      ]
    },
    {
      "cell_type": "markdown",
      "source": [
        "# Kesimpulan"
      ],
      "metadata": {
        "id": "pTSywZA8S1jE"
      }
    },
    {
      "cell_type": "markdown",
      "source": [
        "Berdasarkan grafik yang menampilkan harga penutupan tertimbang bulanan dari portofolio optimal pada periode 2015 hingga 2025, terdapat beberapa poin kesimpulan utama yang dapat diambil:\n",
        "\n",
        "1. Tren kenaikan yang konsisten: Sejak 2015 hingga 2025, harga penutupan\n",
        "tertimbang dari portofolio optimal menunjukkan tren naik yang signifikan. Ini menunjukkan kinerja yang kuat dan berkelanjutan dari portofolio tersebut.\n",
        "\n",
        "2. Peningkatan yang tajam setelah 2020: Meskipun tren kenaikan terlihat konsisten, terdapat peningkatan yang lebih tajam setelah tahun 2020. Hal ini dapat disebabkan oleh faktor eksternal seperti perubahan kondisi pasar atau performa kuat dari aset-aset dalam portofolio.\n",
        "\n",
        "3. Volatilitas ringan: Walaupun secara umum harga meningkat, terdapat beberapa periode fluktuasi kecil di sekitar 2021 hingga 2023. Ini menunjukkan adanya volatilitas dalam jangka pendek, tetapi tidak memengaruhi tren naik jangka panjang.\n",
        "\n",
        "4. Nilai portofolio optimal: Nilai penutupan tertimbang mencapai sekitar 225 USD pada tahun 2024, menunjukkan pertumbuhan signifikan dari sekitar 50 USD di awal periode (2015). Kenaikan ini menandakan bahwa portofolio optimal telah menghasilkan keuntungan yang substansial.\n",
        "\n",
        "Secara keseluruhan, portofolio optimal ini menunjukkan performa yang sangat positif, terutama dalam beberapa tahun terakhir. Ini bisa menarik bagi investor yang mencari pertumbuhan jangka panjang. Namun, volatilitas kecil pada beberapa periode tetap perlu diperhatikan sebagai bagian dari risiko investasi."
      ],
      "metadata": {
        "id": "fr5rMdbJqCzD"
      }
    }
  ]
}